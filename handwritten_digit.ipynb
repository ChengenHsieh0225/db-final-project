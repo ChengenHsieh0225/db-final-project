{
 "cells": [
  {
   "cell_type": "code",
   "execution_count": 2,
   "metadata": {},
   "outputs": [
    {
     "name": "stdout",
     "output_type": "stream",
     "text": [
      "Epoch 1/5\n"
     ]
    },
    {
     "name": "stderr",
     "output_type": "stream",
     "text": [
      "C:\\Users\\liner\\AppData\\Local\\Packages\\PythonSoftwareFoundation.Python.3.11_qbz5n2kfra8p0\\LocalCache\\local-packages\\Python311\\site-packages\\keras\\src\\layers\\convolutional\\base_conv.py:107: UserWarning: Do not pass an `input_shape`/`input_dim` argument to a layer. When using Sequential models, prefer using an `Input(shape)` object as the first layer in the model instead.\n",
      "  super().__init__(activity_regularizer=activity_regularizer, **kwargs)\n"
     ]
    },
    {
     "name": "stdout",
     "output_type": "stream",
     "text": [
      "\u001b[1m750/750\u001b[0m \u001b[32m━━━━━━━━━━━━━━━━━━━━\u001b[0m\u001b[37m\u001b[0m \u001b[1m10s\u001b[0m 12ms/step - accuracy: 0.8542 - loss: 0.4810 - val_accuracy: 0.9779 - val_loss: 0.0704\n",
      "Epoch 2/5\n",
      "\u001b[1m750/750\u001b[0m \u001b[32m━━━━━━━━━━━━━━━━━━━━\u001b[0m\u001b[37m\u001b[0m \u001b[1m9s\u001b[0m 12ms/step - accuracy: 0.9829 - loss: 0.0557 - val_accuracy: 0.9830 - val_loss: 0.0564\n",
      "Epoch 3/5\n",
      "\u001b[1m750/750\u001b[0m \u001b[32m━━━━━━━━━━━━━━━━━━━━\u001b[0m\u001b[37m\u001b[0m \u001b[1m9s\u001b[0m 12ms/step - accuracy: 0.9879 - loss: 0.0391 - val_accuracy: 0.9881 - val_loss: 0.0400\n",
      "Epoch 4/5\n",
      "\u001b[1m750/750\u001b[0m \u001b[32m━━━━━━━━━━━━━━━━━━━━\u001b[0m\u001b[37m\u001b[0m \u001b[1m9s\u001b[0m 12ms/step - accuracy: 0.9911 - loss: 0.0278 - val_accuracy: 0.9848 - val_loss: 0.0497\n",
      "Epoch 5/5\n",
      "\u001b[1m750/750\u001b[0m \u001b[32m━━━━━━━━━━━━━━━━━━━━\u001b[0m\u001b[37m\u001b[0m \u001b[1m9s\u001b[0m 12ms/step - accuracy: 0.9927 - loss: 0.0234 - val_accuracy: 0.9904 - val_loss: 0.0379\n",
      "\u001b[1m313/313\u001b[0m \u001b[32m━━━━━━━━━━━━━━━━━━━━\u001b[0m\u001b[37m\u001b[0m \u001b[1m1s\u001b[0m 3ms/step - accuracy: 0.9863 - loss: 0.0448\n",
      "Test accuracy: 0.9886000156402588\n"
     ]
    }
   ],
   "source": [
    "import tensorflow as tf\n",
    "from tensorflow.keras import layers, models\n",
    "\n",
    "# 定義CNN模型\n",
    "def create_cnn_model():\n",
    "    model = models.Sequential()\n",
    "    model.add(layers.Conv2D(32, (3, 3), activation='relu', input_shape=(28, 28, 1)))\n",
    "    model.add(layers.MaxPooling2D((2, 2)))\n",
    "    model.add(layers.Conv2D(64, (3, 3), activation='relu'))\n",
    "    model.add(layers.MaxPooling2D((2, 2)))\n",
    "    model.add(layers.Conv2D(64, (3, 3), activation='relu'))\n",
    "    model.add(layers.Flatten())\n",
    "    model.add(layers.Dense(64, activation='relu'))\n",
    "    model.add(layers.Dense(10, activation='softmax')) # 10個類別的輸出層\n",
    "    return model\n",
    "\n",
    "# 載入資料集\n",
    "mnist = tf.keras.datasets.mnist\n",
    "(train_images, train_labels), (test_images, test_labels) = mnist.load_data()\n",
    "\n",
    "# 預處理資料\n",
    "train_images = train_images.reshape((60000, 28, 28, 1))\n",
    "train_images = train_images.astype('float32') / 255\n",
    "\n",
    "test_images = test_images.reshape((10000, 28, 28, 1))\n",
    "test_images = test_images.astype('float32') / 255\n",
    "\n",
    "train_labels = tf.keras.utils.to_categorical(train_labels)\n",
    "test_labels = tf.keras.utils.to_categorical(test_labels)\n",
    "\n",
    "# 創建模型\n",
    "model = create_cnn_model()\n",
    "model.compile(optimizer='adam',\n",
    "              loss='categorical_crossentropy',\n",
    "              metrics=['accuracy'])\n",
    "\n",
    "# 訓練模型\n",
    "model.fit(train_images, train_labels, epochs=5, batch_size=64, validation_split=0.2)\n",
    "\n",
    "# 評估模型\n",
    "test_loss, test_acc = model.evaluate(test_images, test_labels)\n",
    "print('Test accuracy:', test_acc)"
   ]
  },
  {
   "cell_type": "markdown",
   "metadata": {},
   "source": [
    "Store Images In Sql"
   ]
  },
  {
   "cell_type": "code",
   "execution_count": 10,
   "metadata": {},
   "outputs": [],
   "source": [
    "import csv\n",
    "import json\n",
    "import mysql.connector\n",
    "import pandas as pd\n",
    "import sqlalchemy as sql\n",
    "from sqlalchemy import text\n",
    "import numpy as np\n",
    "\n",
    "\n",
    "with open('final_config.json') as f:\n",
    "    config = json.load(f)\n",
    "host = config['host']\n",
    "user = config['user']\n",
    "passwd = config['passwd']"
   ]
  },
  {
   "cell_type": "code",
   "execution_count": 8,
   "metadata": {},
   "outputs": [],
   "source": [
    "cnx = mysql.connector.connect(\n",
    "    host=host,\n",
    "    user=user,\n",
    "    password=passwd,\n",
    "    database='my_database'\n",
    ")"
   ]
  },
  {
   "cell_type": "code",
   "execution_count": 5,
   "metadata": {},
   "outputs": [],
   "source": [
    "# Create a cursor object\n",
    "cur = cnx.cursor()\n",
    "\n",
    "# Create a table for storing images\n",
    "# id SERIAL PRIMARY KEY,\n",
    "# create_table_query = \"\"\"\n",
    "# CREATE TABLE images (\n",
    "#     id INT AUTO_INCREMENT PRIMARY KEY,\n",
    "#     data text\n",
    "# );\n",
    "# \"\"\"\n",
    "create_table_query = \"\"\"\n",
    "CREATE TABLE input_image (\n",
    "\timage_index INT,\n",
    "    i INT,\n",
    "    j INT,\n",
    "    value float,\n",
    "    CHECK (value >= 0 AND value <= 1)\n",
    ");\n",
    "\"\"\"\n",
    "cur.execute(create_table_query)\n",
    "cnx.commit()"
   ]
  },
  {
   "cell_type": "code",
   "execution_count": 6,
   "metadata": {},
   "outputs": [
    {
     "name": "stdout",
     "output_type": "stream",
     "text": [
      "1000 images inserted\n",
      "2000 images inserted\n",
      "3000 images inserted\n",
      "4000 images inserted\n",
      "5000 images inserted\n",
      "6000 images inserted\n",
      "7000 images inserted\n",
      "8000 images inserted\n",
      "9000 images inserted\n",
      "10000 images inserted\n",
      "11000 images inserted\n",
      "12000 images inserted\n",
      "13000 images inserted\n",
      "14000 images inserted\n",
      "15000 images inserted\n",
      "16000 images inserted\n",
      "17000 images inserted\n",
      "18000 images inserted\n",
      "19000 images inserted\n",
      "20000 images inserted\n",
      "21000 images inserted\n",
      "22000 images inserted\n",
      "23000 images inserted\n",
      "24000 images inserted\n",
      "25000 images inserted\n",
      "26000 images inserted\n",
      "27000 images inserted\n",
      "28000 images inserted\n",
      "29000 images inserted\n",
      "30000 images inserted\n",
      "31000 images inserted\n",
      "32000 images inserted\n",
      "33000 images inserted\n",
      "34000 images inserted\n",
      "35000 images inserted\n",
      "36000 images inserted\n",
      "37000 images inserted\n",
      "38000 images inserted\n",
      "39000 images inserted\n",
      "40000 images inserted\n",
      "41000 images inserted\n",
      "42000 images inserted\n",
      "43000 images inserted\n",
      "44000 images inserted\n",
      "45000 images inserted\n",
      "46000 images inserted\n",
      "47000 images inserted\n",
      "48000 images inserted\n",
      "49000 images inserted\n",
      "50000 images inserted\n",
      "51000 images inserted\n",
      "52000 images inserted\n",
      "53000 images inserted\n",
      "54000 images inserted\n",
      "55000 images inserted\n",
      "56000 images inserted\n",
      "57000 images inserted\n",
      "58000 images inserted\n",
      "59000 images inserted\n",
      "60000 images inserted\n",
      "All images inserted\n"
     ]
    }
   ],
   "source": [
    "# Convert the NumPy array to a list and then to a JSON string\n",
    "# for image_data in train_images:\n",
    "#     # Convert the NumPy array to a list and then to a JSON string\n",
    "#     train_images_list = image_data.tolist()\n",
    "#     train_images_json = json.dumps(train_images_list)\n",
    "#     image_300 = train_images[299]\n",
    "#     # Insert the JSON string into the database\n",
    "#     cur.execute(\"INSERT INTO images (data) VALUES (%s)\",(train_images_json,))\n",
    "#     cnx.commit()\n",
    "for image_index in range(60000):\n",
    "    image_data = train_images[image_index]\n",
    "    for i in range(28):\n",
    "        for j in range(28):\n",
    "            value = float(image_data[i, j, 0])\n",
    "            if value == 0:\n",
    "                continue\n",
    "            cur.execute(\"INSERT INTO input_image (image_index, i, j, value) VALUES (%s, %s, %s, %s)\", \n",
    "                           (image_index+1, i, j, value))\n",
    "\n",
    "    # 提交事务每10张图像\n",
    "    if (image_index+1) % 1000 == 0:\n",
    "        cnx.commit()\n",
    "        print(f'{image_index + 1} images inserted')\n",
    "\n",
    "# 提交剩余的事务\n",
    "cnx.commit()\n",
    "print('All images inserted')\n",
    "\n",
    "# Close the cursor and connection\n",
    "cur.close()\n",
    "cnx.close()"
   ]
  },
  {
   "cell_type": "code",
   "execution_count": 11,
   "metadata": {},
   "outputs": [],
   "source": [
    "cur = cnx.cursor()\n",
    "create_table_query = \"\"\"\n",
    "CREATE TABLE test_image (\n",
    "\timage_index INT,\n",
    "    i INT,\n",
    "    j INT,\n",
    "    value float,\n",
    "    CHECK (value >= 0 AND value <= 1)\n",
    ");\n",
    "\"\"\"\n",
    "cur.execute(create_table_query)\n",
    "cnx.commit()"
   ]
  },
  {
   "cell_type": "code",
   "execution_count": 12,
   "metadata": {},
   "outputs": [
    {
     "name": "stdout",
     "output_type": "stream",
     "text": [
      "1000 images inserted\n",
      "2000 images inserted\n",
      "3000 images inserted\n",
      "4000 images inserted\n",
      "5000 images inserted\n",
      "6000 images inserted\n",
      "7000 images inserted\n",
      "8000 images inserted\n",
      "9000 images inserted\n",
      "10000 images inserted\n",
      "All test images inserted!\n"
     ]
    }
   ],
   "source": [
    "for image_index in range(10000):\n",
    "    image_data = train_images[image_index]\n",
    "    for i in range(28):\n",
    "        for j in range(28):\n",
    "            value = float(image_data[i, j, 0])\n",
    "            if value == 0:\n",
    "                continue\n",
    "            cur.execute(\"INSERT INTO test_image (image_index, i, j, value) VALUES (%s, %s, %s, %s)\", \n",
    "                           (image_index+1, i, j, value))\n",
    "\n",
    "    # 提交事务每10张图像\n",
    "    if (image_index+1) % 1000 == 0:\n",
    "        cnx.commit()\n",
    "        print(f'{image_index + 1} images inserted')\n",
    "\n",
    "# 提交剩余的事务\n",
    "cnx.commit()\n",
    "print('All test images inserted!')\n",
    "\n",
    "# Close the cursor and connection\n",
    "cur.close()\n",
    "cnx.close()"
   ]
  }
 ],
 "metadata": {
  "kernelspec": {
   "display_name": "Python 3",
   "language": "python",
   "name": "python3"
  },
  "language_info": {
   "codemirror_mode": {
    "name": "ipython",
    "version": 3
   },
   "file_extension": ".py",
   "mimetype": "text/x-python",
   "name": "python",
   "nbconvert_exporter": "python",
   "pygments_lexer": "ipython3",
   "version": "3.11.9"
  }
 },
 "nbformat": 4,
 "nbformat_minor": 2
}
